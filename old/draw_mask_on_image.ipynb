{
 "cells": [
  {
   "cell_type": "code",
   "execution_count": 6,
   "id": "e29410c2-d1e4-4af8-b0b6-199e054629ee",
   "metadata": {
    "scrolled": true
   },
   "outputs": [],
   "source": [
    "# !pip install nd2\n",
    "# !pip install numpy\n",
    "# !pip install matplotlib"
   ]
  },
  {
   "cell_type": "code",
   "execution_count": null,
   "id": "13fc6785-c958-4a19-bfbe-4a2c3a49920d",
   "metadata": {},
   "outputs": [],
   "source": [
    "import os\n",
    "import os.path as osp\n",
    "\n",
    "import nd2\n",
    "import numpy as np\n",
    "\n",
    "import matplotlib.pyplot as plt"
   ]
  },
  {
   "cell_type": "code",
   "execution_count": null,
   "id": "af56344c-8f23-4b8e-be14-06a7fd37a039",
   "metadata": {},
   "outputs": [],
   "source": [
    "images_dir = 'datasets/MSC/30_04_2023-LF1-P6-P21'\n",
    "masks_dir =  'datasets/MSC/30_04_2023-LF1-P6-P21_masks'\n",
    "out_dir =    'datasets/MSC/30_04_2023-LF1-P6-P21_orig_with_masks'\n",
    "os.makedirs(out_dir, exist_ok=True)\n",
    "\n",
    "vmax = 4095\n",
    "vmax_res = 255\n",
    "image_channel = 0\n",
    "color_shift = (-100, +100, -100)  # (R, G, B)\n",
    "\n",
    "show = False\n",
    "save = True"
   ]
  },
  {
   "cell_type": "code",
   "execution_count": null,
   "id": "6c726eff-31e9-4ff3-9926-f97a4ab9eaa6",
   "metadata": {},
   "outputs": [],
   "source": [
    "fn_list = [v for v in os.listdir(images_dir) if v.endswith('.nd2')]\n",
    "fn_list.sort()\n",
    "\n",
    "images_fps = list()\n",
    "masks_fps = list()\n",
    "\n",
    "if show:\n",
    "    plt.subplot(111)\n",
    "for idx, fn in enumerate(fn_list):\n",
    "    print(f'{idx+1}/{len(fn_list)}')\n",
    "    fp = osp.join(images_dir, fn)\n",
    "    mask_fp = osp.join(masks_dir, f'{fn}mask.png')\n",
    "    \n",
    "    image = nd2.imread(fp).astype(np.float32)\n",
    "    mask = plt.imread(mask_fp)[...,0]\n",
    "    \n",
    "    img1 = image[image_channel].copy() / vmax * vmax_res\n",
    "    img3 = np.stack([img1]*3, axis=2)\n",
    "    \n",
    "    mask_indices = mask == 1\n",
    "    for c_idx, c in enumerate(color_shift):\n",
    "        img3[..., c_idx][mask_indices] += c\n",
    "        \n",
    "    img3 = img3.clip(0, vmax_res).astype(np.uint8)\n",
    "    \n",
    "    if show:\n",
    "        plt.clf()\n",
    "        plt.imshow(img3)\n",
    "        plt.show()\n",
    "    if save:\n",
    "        plt.imsave(osp.join(out_dir, f'{fn}_orig_with_mask.png'), img3)"
   ]
  },
  {
   "cell_type": "code",
   "execution_count": null,
   "id": "bc69b0f8-db36-4be0-ba2f-12ef9bad2c55",
   "metadata": {},
   "outputs": [],
   "source": []
  }
 ],
 "metadata": {
  "kernelspec": {
   "display_name": "Python 3 (ipykernel)",
   "language": "python",
   "name": "python3"
  },
  "language_info": {
   "codemirror_mode": {
    "name": "ipython",
    "version": 3
   },
   "file_extension": ".py",
   "mimetype": "text/x-python",
   "name": "python",
   "nbconvert_exporter": "python",
   "pygments_lexer": "ipython3",
   "version": "3.11.5"
  }
 },
 "nbformat": 4,
 "nbformat_minor": 5
}
