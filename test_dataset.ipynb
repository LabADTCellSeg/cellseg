{
 "cells": [
  {
   "cell_type": "code",
   "execution_count": 1,
   "id": "2079a25a-3ed5-41ad-be87-de944acb56e6",
   "metadata": {},
   "outputs": [
    {
     "name": "stdout",
     "output_type": "stream",
     "text": [
      "No display found. Using non-interactive Agg backend.\n"
     ]
    }
   ],
   "source": [
    "import os\n",
    "from pathlib import Path\n",
    "\n",
    "from types import SimpleNamespace\n",
    "from pprint import pprint\n",
    "\n",
    "import torch\n",
    "\n",
    "from cellseg_exp import experiment\n",
    "from cellseg_utils import prepare_data, get_str_timestamp"
   ]
  },
  {
   "cell_type": "code",
   "execution_count": 26,
   "id": "975b4336-588d-454a-893e-08d0ed4a6b71",
   "metadata": {},
   "outputs": [],
   "source": [
    "draw = True\n",
    "test = True\n",
    "\n",
    "if test:\n",
    "    run_clear_ml = False\n",
    "    out_dir = 'out/test'\n",
    "    shuffle = False\n",
    "    ratio_train = 0.0\n",
    "    ratio_val = 0.0\n",
    "    # ratio_train = 0.6\n",
    "    # ratio_val = 0.2\n",
    "    # images_num = 20\n",
    "    images_num = 10\n",
    "    max_epochs = 0\n",
    "else:\n",
    "    run_clear_ml = True\n",
    "    out_dir = 'out/LF1'\n",
    "    shuffle = True\n",
    "    ratio_train = 0.6\n",
    "    ratio_val = 0.2\n",
    "    images_num = None\n",
    "    max_epochs = 600\n",
    "\n",
    "root_dir = Path('datasets/Cells_2.0_for_Ivan/masked_MSC')\n",
    "dir01 = root_dir / 'pics 2024-20240807T031703Z-001' / 'pics 2024'\n",
    "dir02 = root_dir / 'pics 2024-20240807T031703Z-002' / 'pics 2024'\n",
    "lf_dir = dir01 / 'LF1'\n",
    "resize_coef = 1\n",
    "\n",
    "dataset_dir = lf_dir\n",
    "exp_class_dict = {'+2024-05-05-LF1-p6-sl2': 6,\n",
    "                  '+2024-05-06-LF1-p12': 12,\n",
    "                  '+2024-05-06-LF1p9-sl2': 9,\n",
    "                  '+2024-05-07-LF1p15': 15,\n",
    "                  '+2024-05-08-LF1p18sl2': 18,\n",
    "                  '+2024-05-31-LF1-p22': 22\n",
    "                  }\n",
    "\n",
    "params = dict(\n",
    "    model_name='Unet',\n",
    "    model_load_fp=None,\n",
    "    # model_load_fp='out/MSC_filtered_mc/Unet_timm-efficientnet-b0_20240425_160139/best_model.pth',\n",
    "    # model_load_fp=os.path.join('out', 'MSC', 'Unet_timm-efficientnet-b6_20240417_144310', 'best_model.pth'),\n",
    "    # model_load_fp=Path('out/LF1') / 'Unet_timm-efficientnet-b6_20241012_154141' / 'best_model.pth',\n",
    "    model_load_full=True,\n",
    "\n",
    "    dataset_dir=dataset_dir,\n",
    "    exp_class_dict=exp_class_dict,\n",
    "    ratio_train=ratio_train,\n",
    "    ratio_val=ratio_val,\n",
    "    \n",
    "    square_a=256,\n",
    "    border=10,\n",
    "    classes_num=1+1,\n",
    "    channels=4,\n",
    "    num_workers=1,\n",
    "    batch_size=3,\n",
    "    bce_weight=0.1,\n",
    "\n",
    "    ENCODER='timm-efficientnet-b0',  # 'resnet101',  # 'efficientnet-b2',  # 'timm-efficientnet-b8',  # 'efficientnet-b0'\n",
    "    ENCODER_WEIGHTS='imagenet',\n",
    "    ACTIVATION='sigmoid',  # could be None for logits or 'softmax2d' for multiclass segmentation\n",
    "    DEVICE='cuda' if torch.cuda.is_available() else 'cpu',\n",
    "\n",
    "    max_epochs=max_epochs,\n",
    "    lr_first=1e-2,\n",
    "    lr_last=1e-4,\n",
    ")"
   ]
  },
  {
   "cell_type": "code",
   "execution_count": 27,
   "id": "bb203e46-389b-4fa8-831d-de39d10bedc6",
   "metadata": {},
   "outputs": [
    {
     "name": "stderr",
     "output_type": "stream",
     "text": [
      "0it [00:00, ?it/s]\n",
      "0it [00:00, ?it/s]\n",
      "100%|███████████████████████████████████████████████████████████████████████████████████████████████████████████████████████████████████████████████████████████████████████████████| 10/10 [00:09<00:00,  1.05it/s]\n"
     ]
    }
   ],
   "source": [
    "params = SimpleNamespace(**params)\n",
    "classes = list(exp_class_dict.values())\n",
    "classes.sort()\n",
    "train_dataset, valid_dataset, test_dataset = prepare_data(params, classes, images_num=images_num, shuffle=shuffle,\n",
    "                                                          resize_coef=resize_coef)"
   ]
  },
  {
   "cell_type": "code",
   "execution_count": 28,
   "id": "ed1d8861-09b2-43a4-94c9-1b917e9f10b5",
   "metadata": {},
   "outputs": [],
   "source": [
    "from cellseg_utils import (\n",
    "    split_image,\n",
    "    unsplit_image\n",
    ")"
   ]
  },
  {
   "cell_type": "code",
   "execution_count": 29,
   "id": "9c13984b-db5f-4ba6-9874-48663d2f8d51",
   "metadata": {},
   "outputs": [
    {
     "name": "stdout",
     "output_type": "stream",
     "text": [
      "(3072, 4064, 3)\n",
      "(3072, 4064, 2)\n",
      "(3072, 4064, 1)\n",
      "dict_keys(['cls', 'idx', 'mask_fp', 'r_fp', 'g_fp', 'b_fp', 'p_fp'])\n"
     ]
    }
   ],
   "source": [
    "image = test_dataset.images[0]\n",
    "mask = test_dataset.masks[0]\n",
    "shadow = test_dataset.shadows[0]\n",
    "info = test_dataset.info[0]\n",
    "print(image.shape)\n",
    "print(mask.shape)\n",
    "print(shadow.shape)\n",
    "print(info.keys())\n"
   ]
  },
  {
   "cell_type": "code",
   "execution_count": 30,
   "id": "e86bb9ce-4eb2-4c1f-9ea2-715b50bcf463",
   "metadata": {},
   "outputs": [],
   "source": [
    "    # images = list()\n",
    "    # masks = list()\n",
    "    # squares_info = list()\n",
    "    # for image, mask, shadow in tqdm(list(zip(test_dataset.images, test_dataset.masks, test_dataset.shadows))):\n",
    "    #     assert image.shape[:-1] == mask.shape[:-1] == shadow.shape[:-1]\n",
    "\n",
    "    #     mask = self._prepare_mask(mask / 255)\n",
    "\n",
    "    #     # split\n",
    "    #     _, img_sq_list = split_image(img, self.full_size,\n",
    "    #                                  self.squares, self.border)\n",
    "    #     _, mask_sq_list = split_image(mask, self.full_size,\n",
    "    #                                   self.squares, self.border)\n",
    "    #     if self.add_shadow_to_img:\n",
    "    #         shadow = self.read_shadow(fp_data)\n",
    "    #         _, shadow_sq_list = split_image(shadow, self.full_size,\n",
    "    #                       self.squares, self.border)\n",
    "    #     else:\n",
    "    #         shadow_sq_list = [None] * len(img_sq_list)\n",
    "\n",
    "    #     for img_sq, msk_sq, shd_sq, sq in zip(img_sq_list,\n",
    "    #                                   mask_sq_list, shadow_sq_list,\n",
    "    #                                   self.squares):\n",
    "\n",
    "    #         img_sq, msk_sq = self.aug(img, mask, shadow=shd_sq)\n",
    "    #         img_sq = img_sq.transpose(2, 0, 1)\n",
    "    #         msk_sq = msk_sq.transpose(2, 0, 1)\n",
    "\n",
    "    #         images.append(img_sq.astype(np.uint8))\n",
    "    #         masks.append(msk_sq.astype(np.uint8))\n",
    "    #         # cur_cq = sq.copy()\n",
    "    #         # cur_cq['fp'] = fp\n",
    "    #         squares_info.append(sq)\n",
    "\n",
    "    # # images = np.stack(images, axis=0)\n",
    "    # # masks = np.stack(masks, axis=0)\n",
    "    # return images, masks, squares_info"
   ]
  },
  {
   "cell_type": "code",
   "execution_count": 31,
   "id": "e4bb881f-c392-4a8f-a0d1-a4a99bf9eec7",
   "metadata": {},
   "outputs": [],
   "source": [
    "assert image.shape[:-1] == mask.shape[:-1] == shadow.shape[:-1]"
   ]
  },
  {
   "cell_type": "code",
   "execution_count": 32,
   "id": "3c238dba-0e69-46d9-b9de-9ae990b97e76",
   "metadata": {},
   "outputs": [
    {
     "data": {
      "text/plain": [
       "(4096, 3072)"
      ]
     },
     "execution_count": 32,
     "metadata": {},
     "output_type": "execute_result"
    }
   ],
   "source": [
    "test_dataset.full_size"
   ]
  },
  {
   "cell_type": "code",
   "execution_count": null,
   "id": "97943726-084b-4ff2-b0b1-fcb203c87f5e",
   "metadata": {},
   "outputs": [],
   "source": [
    "# split\n",
    "_, img_sq_list = split_image(image, test_dataset.full_size, test_dataset.squares, test_dataset.border)\n",
    "_, mask_sq_list = split_image(mask, test_dataset.full_size, test_dataset.squares, test_dataset.border)"
   ]
  },
  {
   "cell_type": "code",
   "execution_count": null,
   "id": "427d3f67-c298-4f36-8a88-74f12b6cadb0",
   "metadata": {},
   "outputs": [],
   "source": [
    "img_sq_list"
   ]
  },
  {
   "cell_type": "code",
   "execution_count": null,
   "id": "74ceb96e-6537-4b21-b626-97f2c16f96c9",
   "metadata": {},
   "outputs": [],
   "source": [
    "if self.add_shadow_to_img:\n",
    "    shadow = self.read_shadow(fp_data)\n",
    "    _, shadow_sq_list = split_image(shadow, self.full_size,\n",
    "                  self.squares, self.border)\n",
    "else:\n",
    "    shadow_sq_list = [None] * len(img_sq_list)\n",
    "\n",
    "for img_sq, msk_sq, shd_sq, sq in zip(img_sq_list,\n",
    "                              mask_sq_list, shadow_sq_list,\n",
    "                              self.squares):\n",
    "\n",
    "    img_sq, msk_sq = self.aug(img, mask, shadow=shd_sq)\n",
    "    img_sq = img_sq.transpose(2, 0, 1)\n",
    "    msk_sq = msk_sq.transpose(2, 0, 1)\n",
    "\n",
    "    images.append(img_sq.astype(np.uint8))\n",
    "    masks.append(msk_sq.astype(np.uint8))\n",
    "    # cur_cq = sq.copy()\n",
    "    # cur_cq['fp'] = fp\n",
    "    squares_info.append(sq)"
   ]
  }
 ],
 "metadata": {
  "kernelspec": {
   "display_name": "seg",
   "language": "python",
   "name": "seg"
  },
  "language_info": {
   "codemirror_mode": {
    "name": "ipython",
    "version": 3
   },
   "file_extension": ".py",
   "mimetype": "text/x-python",
   "name": "python",
   "nbconvert_exporter": "python",
   "pygments_lexer": "ipython3",
   "version": "3.10.13"
  }
 },
 "nbformat": 4,
 "nbformat_minor": 5
}
